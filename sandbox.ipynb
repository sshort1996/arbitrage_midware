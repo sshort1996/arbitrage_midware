{
 "cells": [
  {
   "cell_type": "markdown",
   "metadata": {},
   "source": [
    "# Sandbox env. for developing middleware classes"
   ]
  },
  {
   "cell_type": "markdown",
   "metadata": {},
   "source": [
    "A generic dataclass representing a bet on an event"
   ]
  },
  {
   "cell_type": "code",
   "execution_count": 2,
   "metadata": {},
   "outputs": [],
   "source": [
    "from datetime import datetime\n",
    "from typing import Set\n",
    "from pydantic import BaseModel\n",
    "\n",
    "class Bet(BaseModel):\n",
    "    \"\"\"\n",
    "    Represents a betting event.\n",
    "\n",
    "    Attributes:\n",
    "        event_id (int): The unique identifier of the event.\n",
    "        bookmaker_id (int): The unique identifier of the bookmaker.\n",
    "        sport (str): The sport of the betting event.\n",
    "        event_date (datetime): The date and time of the event.\n",
    "        event_date (datetime): The timezone in which the event occurs.\n",
    "        participants (set): The set of participants in the event.\n",
    "        outcome (str): The selected outcome of the bet for the target participant.\n",
    "        target (int): The participant to which the chosen outcome refers.\n",
    "        stake (float): The amount wagered on the bet.\n",
    "        odds (float): The odds of the bet.\n",
    "        odds_unit (str): The selected odds standard, ie. fractional, american, or decimal.\n",
    "    \"\"\"\n",
    "\n",
    "    event_id: int\n",
    "    bookmaker_id: int\n",
    "    sport: str\n",
    "    event_date: datetime\n",
    "    event_tz: str\n",
    "    participants: Set[str]\n",
    "    outcome: str\n",
    "    target: str\n",
    "    stake: float\n",
    "    odds: float\n",
    "    odds_unit: str\n",
    "\n",
    "\n",
    "    @classmethod\n",
    "    def create(cls, **data):\n",
    "        \"\"\"\n",
    "        Custom class method to create a Bet object.\n",
    "\n",
    "        Args:\n",
    "            **data: Keyword arguments representing the attributes of the Bet object.\n",
    "\n",
    "        Returns:\n",
    "            Bet: The created Bet object.\n",
    "\n",
    "        Raises:\n",
    "            ValueError: If the target participant is not in the participants set.\n",
    "            ValueError: If the event_tz string is not a valid timezone.\n",
    "        \"\"\"\n",
    "        instance = cls(**data)\n",
    "        \n",
    "        # Additional validation\n",
    "        print(f'post init checks - target: {instance.target}, participants: {instance.participants}')\n",
    "        if instance.target not in instance.participants:\n",
    "            raise ValueError(\"Target participant must be one of the participants\")\n",
    "        \n",
    "        # You can add more checks for other attributes here\n",
    "        \n",
    "        # Check if event_tz is a valid timezone\n",
    "        from pytz import all_timezones\n",
    "        if instance.event_tz not in all_timezones:\n",
    "            raise ValueError(\"Invalid timezone\")\n",
    "        \n",
    "        return instance\n",
    "\n"
   ]
  },
  {
   "cell_type": "markdown",
   "metadata": {},
   "source": [
    "## Validating class attributes"
   ]
  },
  {
   "cell_type": "markdown",
   "metadata": {},
   "source": [
    "The below cell is how we expect the class to be created"
   ]
  },
  {
   "cell_type": "code",
   "execution_count": 3,
   "metadata": {},
   "outputs": [
    {
     "name": "stdout",
     "output_type": "stream",
     "text": [
      "post init checks - target: Silly Goose, participants: {'Daffy Duck', 'Silly Goose'}\n",
      "event_id=1 bookmaker_id=1 sport='duck duck goose' event_date=datetime.datetime(2021, 6, 1, 12, 0) event_tz='Australia/Perth' participants={'Daffy Duck', 'Silly Goose'} outcome='win' target='Silly Goose' stake=99.0 odds=1.4 odds_unit='decimal'\n"
     ]
    }
   ],
   "source": [
    "bet = Bet.create(\n",
    "    event_id = 1,\n",
    "    bookmaker_id = 1,\n",
    "    sport = 'duck duck goose',\n",
    "    event_date = datetime.strptime('2021-06-01 12:00:00', '%Y-%m-%d %H:%M:%S'),\n",
    "    event_tz = \"Australia/Perth\",\n",
    "    participants = {'Silly Goose', 'Daffy Duck'},\n",
    "    outcome = 'win',\n",
    "    target = 'Silly Goose',\n",
    "    stake = 99.0,\n",
    "    odds = 1.4,\n",
    "    odds_unit = 'decimal'\n",
    ")\n",
    "\n",
    "print(bet)"
   ]
  },
  {
   "cell_type": "markdown",
   "metadata": {},
   "source": [
    "Here we test the type checking from `pydantic`"
   ]
  },
  {
   "cell_type": "code",
   "execution_count": 4,
   "metadata": {},
   "outputs": [
    {
     "name": "stdout",
     "output_type": "stream",
     "text": [
      "post init checks - target: Silly Goose, participants: {'Daffy Duck', 'Silly Goose'}\n",
      "event_id=1 bookmaker_id=1 sport='duck duck goose' event_date=datetime.datetime(2021, 6, 1, 12, 0) event_tz='Australia/Perth' participants={'Daffy Duck', 'Silly Goose'} outcome='win' target='Silly Goose' stake=99.0 odds=1.4 odds_unit='decimal'\n",
      "1 validation error for Bet\n",
      "bookmaker_id\n",
      "  Input should be a valid integer, unable to parse string as an integer [type=int_parsing, input_value='invalid', input_type=str]\n",
      "    For further information visit https://errors.pydantic.dev/2.5/v/int_parsing\n"
     ]
    }
   ],
   "source": [
    "my_instance = Bet.create(\n",
    "    event_id = 1,\n",
    "    bookmaker_id = 1,\n",
    "    sport = 'duck duck goose',\n",
    "    event_date = datetime.strptime('2021-06-01 12:00:00', '%Y-%m-%d %H:%M:%S'),\n",
    "    event_tz = \"Australia/Perth\",\n",
    "    participants = {'Silly Goose', 'Daffy Duck'},\n",
    "    outcome = 'win',\n",
    "    target = 'Silly Goose',\n",
    "    stake = 99.0,\n",
    "    odds = 1.4,\n",
    "    odds_unit = 'decimal')\n",
    "print(my_instance) # Output: MyClass attribute1=10 attribute2='Hello'\n",
    "\n",
    "\n",
    "# Incorrect usage - raises ValidationError\n",
    "try:\n",
    "    my_instance = Bet.create(\n",
    "        event_id = 1,\n",
    "        bookmaker_id = 'invalid',\n",
    "        sport = 'duck duck goose',\n",
    "        event_date = datetime.strptime('2021-06-01 12:00:00', '%Y-%m-%d %H:%M:%S'),\n",
    "        event_tz = \"Australia/Perth\",\n",
    "        participants = {'Silly Goose', 'Daffy Duck'},\n",
    "        outcome = 'win',\n",
    "        target = 'Silly Goose',\n",
    "        stake = 99.0,\n",
    "        odds = 1.4,\n",
    "        odds_unit = 'decimal'\n",
    "        )\n",
    "    print(my_instance)\n",
    "except Exception as e:\n",
    "    print(str(e))"
   ]
  },
  {
   "cell_type": "markdown",
   "metadata": {},
   "source": [
    "Here we test out `__post_init__` method validations"
   ]
  },
  {
   "cell_type": "code",
   "execution_count": 5,
   "metadata": {},
   "outputs": [
    {
     "name": "stdout",
     "output_type": "stream",
     "text": [
      "post init checks - target: Stupid Bird, participants: {'Daffy Duck', 'Silly Goose'}\n",
      "Target participant must be one of the participants\n"
     ]
    }
   ],
   "source": [
    "try:\n",
    "    my_instance = Bet.create(\n",
    "        event_id = 1,\n",
    "        bookmaker_id = 1,\n",
    "        sport = 'duck duck goose',\n",
    "        event_date = datetime.strptime('2021-06-01 12:00:00', '%Y-%m-%d %H:%M:%S'),\n",
    "        event_tz = \"Australia/Perth\",\n",
    "        participants = {'Silly Goose', 'Daffy Duck'},\n",
    "        outcome = 'win',\n",
    "        target = 'Stupid Bird',\n",
    "        stake = 99.0,\n",
    "        odds = 1.4,\n",
    "        odds_unit = 'decimal')\n",
    "    print(my_instance)\n",
    "except ValueError as e:\n",
    "    print(str(e))"
   ]
  },
  {
   "cell_type": "code",
   "execution_count": 7,
   "metadata": {},
   "outputs": [
    {
     "name": "stdout",
     "output_type": "stream",
     "text": [
      "post init checks - target: Silly Goose, participants: {'Daffy Duck', 'Silly Goose'}\n",
      "Invalid timezone\n"
     ]
    }
   ],
   "source": [
    "# Incorrect usage - raises ValidationError\n",
    "try:\n",
    "    my_instance = Bet.create(\n",
    "        event_id = 1,\n",
    "        bookmaker_id = 1,\n",
    "        sport = 'duck duck goose',\n",
    "        event_date = datetime.strptime('2021-06-01 12:00:00', '%Y-%m-%d %H:%M:%S'),\n",
    "        event_tz = \"Australia/Purth\",\n",
    "        participants = {'Silly Goose', 'Daffy Duck'},\n",
    "        outcome = 'win',\n",
    "        target = 'Silly Goose',\n",
    "        stake = 99.0,\n",
    "        odds = 1.4,\n",
    "        odds_unit = 'decimal'\n",
    "        )\n",
    "    print(my_instance)\n",
    "except Exception as e:\n",
    "    print(str(e))"
   ]
  },
  {
   "cell_type": "markdown",
   "metadata": {},
   "source": [
    "Let's restrict direct instantiation of the class so that we **must** use the create method to create an instance of the class. We'll create a singleton class that inherits from BaseModel, and then a custom base model that inherits from both of these classes, our Bet class will then inherit from this CustomBaseModel"
   ]
  },
  {
   "cell_type": "code",
   "execution_count": 8,
   "metadata": {},
   "outputs": [
    {
     "ename": "ValueError",
     "evalue": "This class cannot be instantiated directly. Use the create() method instead.",
     "output_type": "error",
     "traceback": [
      "\u001b[1;31m---------------------------------------------------------------------------\u001b[0m",
      "\u001b[1;31mValueError\u001b[0m                                Traceback (most recent call last)",
      "\u001b[1;32mc:\\Users\\ShaneShort\\Documents\\arbitrage_betting\\auto_betting\\middleware_app\\sandbox.ipynb Cell 13\u001b[0m line \u001b[0;36m8\n\u001b[0;32m     <a href='vscode-notebook-cell:/c%3A/Users/ShaneShort/Documents/arbitrage_betting/auto_betting/middleware_app/sandbox.ipynb#X15sZmlsZQ%3D%3D?line=80'>81</a>\u001b[0m             \u001b[39mraise\u001b[39;00m \u001b[39mValueError\u001b[39;00m(\u001b[39m\"\u001b[39m\u001b[39mInvalid timezone\u001b[39m\u001b[39m\"\u001b[39m)\n\u001b[0;32m     <a href='vscode-notebook-cell:/c%3A/Users/ShaneShort/Documents/arbitrage_betting/auto_betting/middleware_app/sandbox.ipynb#X15sZmlsZQ%3D%3D?line=82'>83</a>\u001b[0m         \u001b[39mreturn\u001b[39;00m instance\n\u001b[1;32m---> <a href='vscode-notebook-cell:/c%3A/Users/ShaneShort/Documents/arbitrage_betting/auto_betting/middleware_app/sandbox.ipynb#X15sZmlsZQ%3D%3D?line=85'>86</a>\u001b[0m new_instance \u001b[39m=\u001b[39m Bet\u001b[39m.\u001b[39;49mcreate(\n\u001b[0;32m     <a href='vscode-notebook-cell:/c%3A/Users/ShaneShort/Documents/arbitrage_betting/auto_betting/middleware_app/sandbox.ipynb#X15sZmlsZQ%3D%3D?line=86'>87</a>\u001b[0m     event_id\u001b[39m=\u001b[39;49m\u001b[39m1\u001b[39;49m,\n\u001b[0;32m     <a href='vscode-notebook-cell:/c%3A/Users/ShaneShort/Documents/arbitrage_betting/auto_betting/middleware_app/sandbox.ipynb#X15sZmlsZQ%3D%3D?line=87'>88</a>\u001b[0m     bookmaker_id\u001b[39m=\u001b[39;49m\u001b[39m1\u001b[39;49m,\n\u001b[0;32m     <a href='vscode-notebook-cell:/c%3A/Users/ShaneShort/Documents/arbitrage_betting/auto_betting/middleware_app/sandbox.ipynb#X15sZmlsZQ%3D%3D?line=88'>89</a>\u001b[0m     sport\u001b[39m=\u001b[39;49m\u001b[39m'\u001b[39;49m\u001b[39mduck duck goose\u001b[39;49m\u001b[39m'\u001b[39;49m,\n\u001b[0;32m     <a href='vscode-notebook-cell:/c%3A/Users/ShaneShort/Documents/arbitrage_betting/auto_betting/middleware_app/sandbox.ipynb#X15sZmlsZQ%3D%3D?line=89'>90</a>\u001b[0m     event_date\u001b[39m=\u001b[39;49mdatetime\u001b[39m.\u001b[39;49mstrptime(\u001b[39m'\u001b[39;49m\u001b[39m2021-06-01 12:00:00\u001b[39;49m\u001b[39m'\u001b[39;49m, \u001b[39m'\u001b[39;49m\u001b[39m%\u001b[39;49m\u001b[39mY-\u001b[39;49m\u001b[39m%\u001b[39;49m\u001b[39mm-\u001b[39;49m\u001b[39m%d\u001b[39;49;00m\u001b[39m \u001b[39;49m\u001b[39m%\u001b[39;49m\u001b[39mH:\u001b[39;49m\u001b[39m%\u001b[39;49m\u001b[39mM:\u001b[39;49m\u001b[39m%\u001b[39;49m\u001b[39mS\u001b[39;49m\u001b[39m'\u001b[39;49m),\n\u001b[0;32m     <a href='vscode-notebook-cell:/c%3A/Users/ShaneShort/Documents/arbitrage_betting/auto_betting/middleware_app/sandbox.ipynb#X15sZmlsZQ%3D%3D?line=90'>91</a>\u001b[0m     event_tz\u001b[39m=\u001b[39;49m\u001b[39m\"\u001b[39;49m\u001b[39mAustralia/Perth\u001b[39;49m\u001b[39m\"\u001b[39;49m,\n\u001b[0;32m     <a href='vscode-notebook-cell:/c%3A/Users/ShaneShort/Documents/arbitrage_betting/auto_betting/middleware_app/sandbox.ipynb#X15sZmlsZQ%3D%3D?line=91'>92</a>\u001b[0m     participants\u001b[39m=\u001b[39;49m{\u001b[39m'\u001b[39;49m\u001b[39mSilly Goose\u001b[39;49m\u001b[39m'\u001b[39;49m, \u001b[39m'\u001b[39;49m\u001b[39mDaffy Duck\u001b[39;49m\u001b[39m'\u001b[39;49m},\n\u001b[0;32m     <a href='vscode-notebook-cell:/c%3A/Users/ShaneShort/Documents/arbitrage_betting/auto_betting/middleware_app/sandbox.ipynb#X15sZmlsZQ%3D%3D?line=92'>93</a>\u001b[0m     outcome\u001b[39m=\u001b[39;49m\u001b[39m'\u001b[39;49m\u001b[39mwin\u001b[39;49m\u001b[39m'\u001b[39;49m,\n\u001b[0;32m     <a href='vscode-notebook-cell:/c%3A/Users/ShaneShort/Documents/arbitrage_betting/auto_betting/middleware_app/sandbox.ipynb#X15sZmlsZQ%3D%3D?line=93'>94</a>\u001b[0m     target\u001b[39m=\u001b[39;49m\u001b[39m'\u001b[39;49m\u001b[39mSilly Goose\u001b[39;49m\u001b[39m'\u001b[39;49m,\n\u001b[0;32m     <a href='vscode-notebook-cell:/c%3A/Users/ShaneShort/Documents/arbitrage_betting/auto_betting/middleware_app/sandbox.ipynb#X15sZmlsZQ%3D%3D?line=94'>95</a>\u001b[0m     stake\u001b[39m=\u001b[39;49m\u001b[39m99.0\u001b[39;49m,\n\u001b[0;32m     <a href='vscode-notebook-cell:/c%3A/Users/ShaneShort/Documents/arbitrage_betting/auto_betting/middleware_app/sandbox.ipynb#X15sZmlsZQ%3D%3D?line=95'>96</a>\u001b[0m     odds\u001b[39m=\u001b[39;49m\u001b[39m1.4\u001b[39;49m,\n\u001b[0;32m     <a href='vscode-notebook-cell:/c%3A/Users/ShaneShort/Documents/arbitrage_betting/auto_betting/middleware_app/sandbox.ipynb#X15sZmlsZQ%3D%3D?line=96'>97</a>\u001b[0m     odds_unit\u001b[39m=\u001b[39;49m\u001b[39m'\u001b[39;49m\u001b[39mdecimal\u001b[39;49m\u001b[39m'\u001b[39;49m\n\u001b[0;32m     <a href='vscode-notebook-cell:/c%3A/Users/ShaneShort/Documents/arbitrage_betting/auto_betting/middleware_app/sandbox.ipynb#X15sZmlsZQ%3D%3D?line=97'>98</a>\u001b[0m )\n\u001b[0;32m     <a href='vscode-notebook-cell:/c%3A/Users/ShaneShort/Documents/arbitrage_betting/auto_betting/middleware_app/sandbox.ipynb#X15sZmlsZQ%3D%3D?line=98'>99</a>\u001b[0m \u001b[39mprint\u001b[39m(my_instance)\n\u001b[0;32m    <a href='vscode-notebook-cell:/c%3A/Users/ShaneShort/Documents/arbitrage_betting/auto_betting/middleware_app/sandbox.ipynb#X15sZmlsZQ%3D%3D?line=100'>101</a>\u001b[0m \u001b[39m# Attempting to instantiate directly will raise an error\u001b[39;00m\n",
      "\u001b[1;32mc:\\Users\\ShaneShort\\Documents\\arbitrage_betting\\auto_betting\\middleware_app\\sandbox.ipynb Cell 13\u001b[0m line \u001b[0;36m7\n\u001b[0;32m     <a href='vscode-notebook-cell:/c%3A/Users/ShaneShort/Documents/arbitrage_betting/auto_betting/middleware_app/sandbox.ipynb#X15sZmlsZQ%3D%3D?line=54'>55</a>\u001b[0m \u001b[39m@classmethod\u001b[39m\n\u001b[0;32m     <a href='vscode-notebook-cell:/c%3A/Users/ShaneShort/Documents/arbitrage_betting/auto_betting/middleware_app/sandbox.ipynb#X15sZmlsZQ%3D%3D?line=55'>56</a>\u001b[0m \u001b[39mdef\u001b[39;00m \u001b[39mcreate\u001b[39m(\u001b[39mcls\u001b[39m, \u001b[39m*\u001b[39m\u001b[39m*\u001b[39mdata):\n\u001b[0;32m     <a href='vscode-notebook-cell:/c%3A/Users/ShaneShort/Documents/arbitrage_betting/auto_betting/middleware_app/sandbox.ipynb#X15sZmlsZQ%3D%3D?line=56'>57</a>\u001b[0m \u001b[39m    \u001b[39m\u001b[39m\"\"\"\u001b[39;00m\n\u001b[0;32m     <a href='vscode-notebook-cell:/c%3A/Users/ShaneShort/Documents/arbitrage_betting/auto_betting/middleware_app/sandbox.ipynb#X15sZmlsZQ%3D%3D?line=57'>58</a>\u001b[0m \u001b[39m    Custom class method to create a Bet object.\u001b[39;00m\n\u001b[0;32m     <a href='vscode-notebook-cell:/c%3A/Users/ShaneShort/Documents/arbitrage_betting/auto_betting/middleware_app/sandbox.ipynb#X15sZmlsZQ%3D%3D?line=58'>59</a>\u001b[0m \n\u001b[1;32m   (...)\u001b[0m\n\u001b[0;32m     <a href='vscode-notebook-cell:/c%3A/Users/ShaneShort/Documents/arbitrage_betting/auto_betting/middleware_app/sandbox.ipynb#X15sZmlsZQ%3D%3D?line=67'>68</a>\u001b[0m \u001b[39m        ValueError: If the event_tz string is not a valid timezone.\u001b[39;00m\n\u001b[0;32m     <a href='vscode-notebook-cell:/c%3A/Users/ShaneShort/Documents/arbitrage_betting/auto_betting/middleware_app/sandbox.ipynb#X15sZmlsZQ%3D%3D?line=68'>69</a>\u001b[0m \u001b[39m    \"\"\"\u001b[39;00m\n\u001b[1;32m---> <a href='vscode-notebook-cell:/c%3A/Users/ShaneShort/Documents/arbitrage_betting/auto_betting/middleware_app/sandbox.ipynb#X15sZmlsZQ%3D%3D?line=69'>70</a>\u001b[0m     instance \u001b[39m=\u001b[39m \u001b[39mcls\u001b[39;49m(\u001b[39m*\u001b[39;49m\u001b[39m*\u001b[39;49mdata)\n\u001b[0;32m     <a href='vscode-notebook-cell:/c%3A/Users/ShaneShort/Documents/arbitrage_betting/auto_betting/middleware_app/sandbox.ipynb#X15sZmlsZQ%3D%3D?line=71'>72</a>\u001b[0m     \u001b[39mprint\u001b[39m(\u001b[39mf\u001b[39m\u001b[39m'\u001b[39m\u001b[39mpost init checks - target: \u001b[39m\u001b[39m{\u001b[39;00minstance\u001b[39m.\u001b[39mtarget\u001b[39m}\u001b[39;00m\u001b[39m, participants: \u001b[39m\u001b[39m{\u001b[39;00minstance\u001b[39m.\u001b[39mparticipants\u001b[39m}\u001b[39;00m\u001b[39m'\u001b[39m)\n\u001b[0;32m     <a href='vscode-notebook-cell:/c%3A/Users/ShaneShort/Documents/arbitrage_betting/auto_betting/middleware_app/sandbox.ipynb#X15sZmlsZQ%3D%3D?line=72'>73</a>\u001b[0m     \u001b[39mif\u001b[39;00m instance\u001b[39m.\u001b[39mtarget \u001b[39mnot\u001b[39;00m \u001b[39min\u001b[39;00m instance\u001b[39m.\u001b[39mparticipants:\n",
      "\u001b[1;32mc:\\Users\\ShaneShort\\Documents\\arbitrage_betting\\auto_betting\\middleware_app\\sandbox.ipynb Cell 13\u001b[0m line \u001b[0;36m1\n\u001b[0;32m     <a href='vscode-notebook-cell:/c%3A/Users/ShaneShort/Documents/arbitrage_betting/auto_betting/middleware_app/sandbox.ipynb#X15sZmlsZQ%3D%3D?line=10'>11</a>\u001b[0m \u001b[39mdef\u001b[39;00m \u001b[39m__call__\u001b[39m(\u001b[39mcls\u001b[39m, \u001b[39m*\u001b[39margs, \u001b[39m*\u001b[39m\u001b[39m*\u001b[39mkwargs):\n\u001b[1;32m---> <a href='vscode-notebook-cell:/c%3A/Users/ShaneShort/Documents/arbitrage_betting/auto_betting/middleware_app/sandbox.ipynb#X15sZmlsZQ%3D%3D?line=12'>13</a>\u001b[0m     \u001b[39mraise\u001b[39;00m \u001b[39mValueError\u001b[39;00m(\u001b[39m\"\u001b[39m\u001b[39mThis class cannot be instantiated directly. Use the create() method instead.\u001b[39m\u001b[39m\"\u001b[39m)\n",
      "\u001b[1;31mValueError\u001b[0m: This class cannot be instantiated directly. Use the create() method instead."
     ]
    }
   ],
   "source": [
    "from datetime import datetime\n",
    "from typing import Set\n",
    "from pydantic import BaseModel\n",
    "\n",
    "\n",
    "\n",
    "class NoDirectInstantiationMeta(type):\n",
    "    \"\"\"\n",
    "    A metaclass for preventing direct instantiation of classes.\n",
    "    \"\"\"\n",
    "    def __call__(cls, *args, **kwargs):\n",
    "        raise ValueError(\"This class cannot be instantiated directly. Use the create() method instead.\")\n",
    "    \n",
    "\n",
    "class CustomBaseModel(BaseModel, metaclass=Singleton):\n",
    "    pass\n",
    "\n",
    "\n",
    "class Bet(CustomBaseModel):\n",
    "    \"\"\"\n",
    "    Represents a betting event.\n",
    "\n",
    "    Attributes:\n",
    "        event_id (int): The unique identifier of the event.\n",
    "        bookmaker_id (int): The unique identifier of the bookmaker.\n",
    "        sport (str): The sport of the betting event.\n",
    "        event_date (datetime): The date and time of the event.\n",
    "        event_date (datetime): The timezone in which the event occurs.\n",
    "        participants (set): The set of participants in the event.\n",
    "        outcome (str): The selected outcome of the bet for the target participant.\n",
    "        target (int): The participant to which the chosen outcome refers.\n",
    "        stake (float): The amount wagered on the bet.\n",
    "        odds (float): The odds of the bet.\n",
    "        odds_unit (str): The selected odds standard, i.e., fractional, american, or decimal.\n",
    "    \"\"\"\n",
    "\n",
    "    event_id: int\n",
    "    bookmaker_id: int\n",
    "    sport: str\n",
    "    event_date: datetime\n",
    "    event_tz: str\n",
    "    participants: Set[str]\n",
    "    outcome: str\n",
    "    target: str\n",
    "    stake: float\n",
    "    odds: float\n",
    "    odds_unit: str\n",
    "\n",
    "    @classmethod\n",
    "    def create(cls, **data):\n",
    "        \"\"\"\n",
    "        Custom class method to create a Bet object.\n",
    "\n",
    "        Args:\n",
    "            **data: Keyword arguments representing the attributes of the Bet object.\n",
    "\n",
    "        Returns:\n",
    "            Bet: The created Bet object.\n",
    "\n",
    "        Raises:\n",
    "            ValueError: If the target participant is not in the participants set.\n",
    "            ValueError: If the event_tz string is not a valid timezone.\n",
    "        \"\"\"\n",
    "        instance = cls(**data)\n",
    "\n",
    "        print(f'post init checks - target: {instance.target}, participants: {instance.participants}')\n",
    "        if instance.target not in instance.participants:\n",
    "            raise ValueError(\"Target participant must be one of the participants\")\n",
    "\n",
    "        # You can add more checks for other attributes here\n",
    "\n",
    "        # Check if event_tz is a valid timezone\n",
    "        from pytz import all_timezones\n",
    "        if instance.event_tz not in all_timezones:\n",
    "            raise ValueError(\"Invalid timezone\")\n",
    "\n",
    "        return instance\n",
    "\n",
    "\n",
    "new_instance = Bet.create(\n",
    "    event_id=1,\n",
    "    bookmaker_id=1,\n",
    "    sport='duck duck goose',\n",
    "    event_date=datetime.strptime('2021-06-01 12:00:00', '%Y-%m-%d %H:%M:%S'),\n",
    "    event_tz=\"Australia/Perth\",\n",
    "    participants={'Silly Goose', 'Daffy Duck'},\n",
    "    outcome='win',\n",
    "    target='Silly Goose',\n",
    "    stake=99.0,\n",
    "    odds=1.4,\n",
    "    odds_unit='decimal'\n",
    ")\n",
    "print(my_instance)\n",
    "\n",
    "# Attempting to instantiate directly will raise an error\n",
    "try:\n",
    "    my_instance_direct = Bet(\n",
    "        event_id=2,\n",
    "        bookmaker_id=2,\n",
    "        sport='duck duck goose',\n",
    "        event_date=datetime.now(),\n",
    "        event_tz=\"Australia/Perth\",\n",
    "        participants={'Silly Goose', 'Daffy Duck'},\n",
    "        outcome='win',\n",
    "        target='Silly Goose',\n",
    "        stake=99.0,\n",
    "        odds=1.4,\n",
    "        odds_unit='decimal'\n",
    "    )\n",
    "except ValueError as e:\n",
    "    print(str(e))\n"
   ]
  },
  {
   "cell_type": "markdown",
   "metadata": {},
   "source": [
    "Now if I try to create another instance using the create method"
   ]
  },
  {
   "cell_type": "code",
   "execution_count": 9,
   "metadata": {},
   "outputs": [
    {
     "ename": "ValueError",
     "evalue": "This class cannot be instantiated directly. Use the create() method instead.",
     "output_type": "error",
     "traceback": [
      "\u001b[1;31m---------------------------------------------------------------------------\u001b[0m",
      "\u001b[1;31mValueError\u001b[0m                                Traceback (most recent call last)",
      "\u001b[1;32mc:\\Users\\ShaneShort\\Documents\\arbitrage_betting\\auto_betting\\middleware_app\\sandbox.ipynb Cell 15\u001b[0m line \u001b[0;36m1\n\u001b[1;32m----> <a href='vscode-notebook-cell:/c%3A/Users/ShaneShort/Documents/arbitrage_betting/auto_betting/middleware_app/sandbox.ipynb#X20sZmlsZQ%3D%3D?line=0'>1</a>\u001b[0m new_instance \u001b[39m=\u001b[39m Bet\u001b[39m.\u001b[39;49mcreate(\n\u001b[0;32m      <a href='vscode-notebook-cell:/c%3A/Users/ShaneShort/Documents/arbitrage_betting/auto_betting/middleware_app/sandbox.ipynb#X20sZmlsZQ%3D%3D?line=1'>2</a>\u001b[0m     event_id\u001b[39m=\u001b[39;49m\u001b[39m1\u001b[39;49m,\n\u001b[0;32m      <a href='vscode-notebook-cell:/c%3A/Users/ShaneShort/Documents/arbitrage_betting/auto_betting/middleware_app/sandbox.ipynb#X20sZmlsZQ%3D%3D?line=2'>3</a>\u001b[0m     bookmaker_id\u001b[39m=\u001b[39;49m\u001b[39m1\u001b[39;49m,\n\u001b[0;32m      <a href='vscode-notebook-cell:/c%3A/Users/ShaneShort/Documents/arbitrage_betting/auto_betting/middleware_app/sandbox.ipynb#X20sZmlsZQ%3D%3D?line=3'>4</a>\u001b[0m     sport\u001b[39m=\u001b[39;49m\u001b[39m'\u001b[39;49m\u001b[39mduck duck goose\u001b[39;49m\u001b[39m'\u001b[39;49m,\n\u001b[0;32m      <a href='vscode-notebook-cell:/c%3A/Users/ShaneShort/Documents/arbitrage_betting/auto_betting/middleware_app/sandbox.ipynb#X20sZmlsZQ%3D%3D?line=4'>5</a>\u001b[0m     event_date\u001b[39m=\u001b[39;49mdatetime\u001b[39m.\u001b[39;49mstrptime(\u001b[39m'\u001b[39;49m\u001b[39m2021-06-01 12:00:00\u001b[39;49m\u001b[39m'\u001b[39;49m, \u001b[39m'\u001b[39;49m\u001b[39m%\u001b[39;49m\u001b[39mY-\u001b[39;49m\u001b[39m%\u001b[39;49m\u001b[39mm-\u001b[39;49m\u001b[39m%d\u001b[39;49;00m\u001b[39m \u001b[39;49m\u001b[39m%\u001b[39;49m\u001b[39mH:\u001b[39;49m\u001b[39m%\u001b[39;49m\u001b[39mM:\u001b[39;49m\u001b[39m%\u001b[39;49m\u001b[39mS\u001b[39;49m\u001b[39m'\u001b[39;49m),\n\u001b[0;32m      <a href='vscode-notebook-cell:/c%3A/Users/ShaneShort/Documents/arbitrage_betting/auto_betting/middleware_app/sandbox.ipynb#X20sZmlsZQ%3D%3D?line=5'>6</a>\u001b[0m     event_tz\u001b[39m=\u001b[39;49m\u001b[39m\"\u001b[39;49m\u001b[39mAustralia/Perth\u001b[39;49m\u001b[39m\"\u001b[39;49m,\n\u001b[0;32m      <a href='vscode-notebook-cell:/c%3A/Users/ShaneShort/Documents/arbitrage_betting/auto_betting/middleware_app/sandbox.ipynb#X20sZmlsZQ%3D%3D?line=6'>7</a>\u001b[0m     participants\u001b[39m=\u001b[39;49m{\u001b[39m'\u001b[39;49m\u001b[39mSilly Goose\u001b[39;49m\u001b[39m'\u001b[39;49m, \u001b[39m'\u001b[39;49m\u001b[39mDaffy Duck\u001b[39;49m\u001b[39m'\u001b[39;49m},\n\u001b[0;32m      <a href='vscode-notebook-cell:/c%3A/Users/ShaneShort/Documents/arbitrage_betting/auto_betting/middleware_app/sandbox.ipynb#X20sZmlsZQ%3D%3D?line=7'>8</a>\u001b[0m     outcome\u001b[39m=\u001b[39;49m\u001b[39m'\u001b[39;49m\u001b[39mwin\u001b[39;49m\u001b[39m'\u001b[39;49m,\n\u001b[0;32m      <a href='vscode-notebook-cell:/c%3A/Users/ShaneShort/Documents/arbitrage_betting/auto_betting/middleware_app/sandbox.ipynb#X20sZmlsZQ%3D%3D?line=8'>9</a>\u001b[0m     target\u001b[39m=\u001b[39;49m\u001b[39m'\u001b[39;49m\u001b[39mSilly Goose\u001b[39;49m\u001b[39m'\u001b[39;49m,\n\u001b[0;32m     <a href='vscode-notebook-cell:/c%3A/Users/ShaneShort/Documents/arbitrage_betting/auto_betting/middleware_app/sandbox.ipynb#X20sZmlsZQ%3D%3D?line=9'>10</a>\u001b[0m     stake\u001b[39m=\u001b[39;49m\u001b[39m99.0\u001b[39;49m,\n\u001b[0;32m     <a href='vscode-notebook-cell:/c%3A/Users/ShaneShort/Documents/arbitrage_betting/auto_betting/middleware_app/sandbox.ipynb#X20sZmlsZQ%3D%3D?line=10'>11</a>\u001b[0m     odds\u001b[39m=\u001b[39;49m\u001b[39m1.4\u001b[39;49m,\n\u001b[0;32m     <a href='vscode-notebook-cell:/c%3A/Users/ShaneShort/Documents/arbitrage_betting/auto_betting/middleware_app/sandbox.ipynb#X20sZmlsZQ%3D%3D?line=11'>12</a>\u001b[0m     odds_unit\u001b[39m=\u001b[39;49m\u001b[39m'\u001b[39;49m\u001b[39mdecimal\u001b[39;49m\u001b[39m'\u001b[39;49m\n\u001b[0;32m     <a href='vscode-notebook-cell:/c%3A/Users/ShaneShort/Documents/arbitrage_betting/auto_betting/middleware_app/sandbox.ipynb#X20sZmlsZQ%3D%3D?line=12'>13</a>\u001b[0m )\n\u001b[0;32m     <a href='vscode-notebook-cell:/c%3A/Users/ShaneShort/Documents/arbitrage_betting/auto_betting/middleware_app/sandbox.ipynb#X20sZmlsZQ%3D%3D?line=13'>14</a>\u001b[0m \u001b[39mprint\u001b[39m(my_instance)\n",
      "\u001b[1;32mc:\\Users\\ShaneShort\\Documents\\arbitrage_betting\\auto_betting\\middleware_app\\sandbox.ipynb Cell 15\u001b[0m line \u001b[0;36m7\n\u001b[0;32m     <a href='vscode-notebook-cell:/c%3A/Users/ShaneShort/Documents/arbitrage_betting/auto_betting/middleware_app/sandbox.ipynb#X20sZmlsZQ%3D%3D?line=54'>55</a>\u001b[0m \u001b[39m@classmethod\u001b[39m\n\u001b[0;32m     <a href='vscode-notebook-cell:/c%3A/Users/ShaneShort/Documents/arbitrage_betting/auto_betting/middleware_app/sandbox.ipynb#X20sZmlsZQ%3D%3D?line=55'>56</a>\u001b[0m \u001b[39mdef\u001b[39;00m \u001b[39mcreate\u001b[39m(\u001b[39mcls\u001b[39m, \u001b[39m*\u001b[39m\u001b[39m*\u001b[39mdata):\n\u001b[0;32m     <a href='vscode-notebook-cell:/c%3A/Users/ShaneShort/Documents/arbitrage_betting/auto_betting/middleware_app/sandbox.ipynb#X20sZmlsZQ%3D%3D?line=56'>57</a>\u001b[0m \u001b[39m    \u001b[39m\u001b[39m\"\"\"\u001b[39;00m\n\u001b[0;32m     <a href='vscode-notebook-cell:/c%3A/Users/ShaneShort/Documents/arbitrage_betting/auto_betting/middleware_app/sandbox.ipynb#X20sZmlsZQ%3D%3D?line=57'>58</a>\u001b[0m \u001b[39m    Custom class method to create a Bet object.\u001b[39;00m\n\u001b[0;32m     <a href='vscode-notebook-cell:/c%3A/Users/ShaneShort/Documents/arbitrage_betting/auto_betting/middleware_app/sandbox.ipynb#X20sZmlsZQ%3D%3D?line=58'>59</a>\u001b[0m \n\u001b[1;32m   (...)\u001b[0m\n\u001b[0;32m     <a href='vscode-notebook-cell:/c%3A/Users/ShaneShort/Documents/arbitrage_betting/auto_betting/middleware_app/sandbox.ipynb#X20sZmlsZQ%3D%3D?line=67'>68</a>\u001b[0m \u001b[39m        ValueError: If the event_tz string is not a valid timezone.\u001b[39;00m\n\u001b[0;32m     <a href='vscode-notebook-cell:/c%3A/Users/ShaneShort/Documents/arbitrage_betting/auto_betting/middleware_app/sandbox.ipynb#X20sZmlsZQ%3D%3D?line=68'>69</a>\u001b[0m \u001b[39m    \"\"\"\u001b[39;00m\n\u001b[1;32m---> <a href='vscode-notebook-cell:/c%3A/Users/ShaneShort/Documents/arbitrage_betting/auto_betting/middleware_app/sandbox.ipynb#X20sZmlsZQ%3D%3D?line=69'>70</a>\u001b[0m     instance \u001b[39m=\u001b[39m \u001b[39mcls\u001b[39;49m(\u001b[39m*\u001b[39;49m\u001b[39m*\u001b[39;49mdata)\n\u001b[0;32m     <a href='vscode-notebook-cell:/c%3A/Users/ShaneShort/Documents/arbitrage_betting/auto_betting/middleware_app/sandbox.ipynb#X20sZmlsZQ%3D%3D?line=71'>72</a>\u001b[0m     \u001b[39mprint\u001b[39m(\u001b[39mf\u001b[39m\u001b[39m'\u001b[39m\u001b[39mpost init checks - target: \u001b[39m\u001b[39m{\u001b[39;00minstance\u001b[39m.\u001b[39mtarget\u001b[39m}\u001b[39;00m\u001b[39m, participants: \u001b[39m\u001b[39m{\u001b[39;00minstance\u001b[39m.\u001b[39mparticipants\u001b[39m}\u001b[39;00m\u001b[39m'\u001b[39m)\n\u001b[0;32m     <a href='vscode-notebook-cell:/c%3A/Users/ShaneShort/Documents/arbitrage_betting/auto_betting/middleware_app/sandbox.ipynb#X20sZmlsZQ%3D%3D?line=72'>73</a>\u001b[0m     \u001b[39mif\u001b[39;00m instance\u001b[39m.\u001b[39mtarget \u001b[39mnot\u001b[39;00m \u001b[39min\u001b[39;00m instance\u001b[39m.\u001b[39mparticipants:\n",
      "\u001b[1;32mc:\\Users\\ShaneShort\\Documents\\arbitrage_betting\\auto_betting\\middleware_app\\sandbox.ipynb Cell 15\u001b[0m line \u001b[0;36m1\n\u001b[0;32m     <a href='vscode-notebook-cell:/c%3A/Users/ShaneShort/Documents/arbitrage_betting/auto_betting/middleware_app/sandbox.ipynb#X20sZmlsZQ%3D%3D?line=10'>11</a>\u001b[0m \u001b[39mdef\u001b[39;00m \u001b[39m__call__\u001b[39m(\u001b[39mcls\u001b[39m, \u001b[39m*\u001b[39margs, \u001b[39m*\u001b[39m\u001b[39m*\u001b[39mkwargs):\n\u001b[1;32m---> <a href='vscode-notebook-cell:/c%3A/Users/ShaneShort/Documents/arbitrage_betting/auto_betting/middleware_app/sandbox.ipynb#X20sZmlsZQ%3D%3D?line=12'>13</a>\u001b[0m     \u001b[39mraise\u001b[39;00m \u001b[39mValueError\u001b[39;00m(\u001b[39m\"\u001b[39m\u001b[39mThis class cannot be instantiated directly. Use the create() method instead.\u001b[39m\u001b[39m\"\u001b[39m)\n",
      "\u001b[1;31mValueError\u001b[0m: This class cannot be instantiated directly. Use the create() method instead."
     ]
    }
   ],
   "source": [
    "new_instance = Bet.create(\n",
    "    event_id=1,\n",
    "    bookmaker_id=1,\n",
    "    sport='duck duck goose',\n",
    "    event_date=datetime.strptime('2021-06-01 12:00:00', '%Y-%m-%d %H:%M:%S'),\n",
    "    event_tz=\"Australia/Perth\",\n",
    "    participants={'Silly Goose', 'Daffy Duck'},\n",
    "    outcome='win',\n",
    "    target='Silly Goose',\n",
    "    stake=99.0,\n",
    "    odds=1.4,\n",
    "    odds_unit='decimal'\n",
    ")\n",
    "print(my_instance)"
   ]
  },
  {
   "cell_type": "code",
   "execution_count": null,
   "metadata": {},
   "outputs": [],
   "source": [
    "import pytz\n",
    "\n",
    "for tz in pytz.all_timezones:\n",
    "    print(tz)\n"
   ]
  },
  {
   "cell_type": "code",
   "execution_count": null,
   "metadata": {},
   "outputs": [],
   "source": [
    "import pytz\n",
    "\n",
    "# Create a string representing the datetime\n",
    "datetime_str = '2021-06-01 12:00:00'\n",
    "\n",
    "# Parse the string to a naive datetime object\n",
    "naive_datetime = datetime.strptime(datetime_str, '%Y-%m-%d %H:%M:%S')\n",
    "\n",
    "# Create a timezone-aware datetime object\n",
    "timezone = pytz.timezone('Australia/Melbourne')\n",
    "aware_datetime = timezone.localize(naive_datetime)\n",
    "\n",
    "# Print the timezone-aware datetime object\n",
    "print(aware_datetime)\n"
   ]
  },
  {
   "cell_type": "code",
   "execution_count": null,
   "metadata": {},
   "outputs": [],
   "source": [
    "Bet(\n",
    "    event_id = 1,\n",
    "    bookmaker_id = 1,\n",
    "    sport = 'duck duck goose',\n",
    "    event_date = datetime.strptime('2021-06-01 12:00:00', '%Y-%m-%d %H:%M:%S'),\n",
    "    event_tz = \"Australia/Perth\",\n",
    "    participants = {'Silly Goose', 'Daffy Duck'},\n",
    "    outcome = 'win',\n",
    "    target = 'Silly Goose',\n",
    "    stake = 99.0,\n",
    "    odds = 1.4,\n",
    "    odds_unit = 'decimal',\n",
    ")"
   ]
  },
  {
   "cell_type": "markdown",
   "metadata": {},
   "source": [
    "Test validations"
   ]
  },
  {
   "cell_type": "code",
   "execution_count": null,
   "metadata": {},
   "outputs": [],
   "source": [
    "Bet(\n",
    "    event_id = 1,\n",
    "    bookmaker_id = 1,\n",
    "    sport = 'duck duck goose',\n",
    "    event_date = datetime.strptime('2021-06-01 12:00:00', '%Y-%m-%d %H:%M:%S'),\n",
    "    event_tz = \"Australia/Perth\",\n",
    "    participants = {'Silly Goose', 'Daffy Duck'},\n",
    "    outcome = 'win',\n",
    "    target = 'Stupid bird',\n",
    "    stake = 99.0,\n",
    "    odds = 1.4,\n",
    "    odds_unit = 'decimal',\n",
    ")"
   ]
  },
  {
   "cell_type": "code",
   "execution_count": null,
   "metadata": {},
   "outputs": [],
   "source": [
    "Bet(\n",
    "    event_id = 1,\n",
    "    bookmaker_id = 1,\n",
    "    sport = 'duck duck goose',\n",
    "    event_date = datetime.strptime('2021-06-01 12:00:00', '%Y-%m-%d %H:%M:%S'),\n",
    "    event_tz = \"Australia/Parth\",\n",
    "    participants = {'Silly Goose', 'Daffy Duck'},\n",
    "    outcome = 'win',\n",
    "    target = 'Silly Goose',\n",
    "    stake = 99.0,\n",
    "    odds = 1.4,\n",
    "    odds_unit = 'decimal',\n",
    ")"
   ]
  },
  {
   "cell_type": "code",
   "execution_count": null,
   "metadata": {},
   "outputs": [],
   "source": [
    "Bet(\n",
    "    event_id = 1,\n",
    "    bookmaker_id = '1',\n",
    "    sport = 'duck duck goose',\n",
    "    event_date = datetime.strptime('2021-06-01 12:00:00', '%Y-%m-%d %H:%M:%S'),\n",
    "    event_tz = \"Australia/Perth\",\n",
    "    participants = {'Silly Goose', 'Daffy Duck'},\n",
    "    outcome = 'win',\n",
    "    target = 'Silly Goose',\n",
    "    stake = 99.0,\n",
    "    odds = 1.4,\n",
    "    odds_unit = 'decimal',\n",
    ")"
   ]
  },
  {
   "cell_type": "code",
   "execution_count": null,
   "metadata": {},
   "outputs": [],
   "source": [
    "from pydantic import BaseModel\n",
    "\n",
    "class MyClass(BaseModel):\n",
    "    attribute1: int\n",
    "    attribute2: str\n",
    "\n",
    "my_instance = MyClass(attribute1=10, attribute2=\"Hello\")\n",
    "print(my_instance) # Output: MyClass attribute1=10 attribute2='Hello'\n",
    "\n",
    "# Incorrect usage - raises ValidationError\n",
    "my_instance = MyClass(attribute1=\"invalid\", attribute2=20)\n",
    "print(my_instance)\n"
   ]
  },
  {
   "cell_type": "code",
   "execution_count": null,
   "metadata": {},
   "outputs": [],
   "source": [
    "my_instance = MyClass(10, 20)\n"
   ]
  }
 ],
 "metadata": {
  "kernelspec": {
   "display_name": "Python 3 (ipykernel)",
   "language": "python",
   "name": "python3"
  },
  "language_info": {
   "codemirror_mode": {
    "name": "ipython",
    "version": 3
   },
   "file_extension": ".py",
   "mimetype": "text/x-python",
   "name": "python",
   "nbconvert_exporter": "python",
   "pygments_lexer": "ipython3",
   "version": "3.11.0"
  }
 },
 "nbformat": 4,
 "nbformat_minor": 2
}
